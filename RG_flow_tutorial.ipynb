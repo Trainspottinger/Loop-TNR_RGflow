{
 "cells": [
  {
   "cell_type": "code",
   "execution_count": 1,
   "id": "172b3861",
   "metadata": {},
   "outputs": [],
   "source": [
    "from Initialization import initialize_Ising\n",
    "from tqdm import tqdm\n",
    "import numpy as np\n",
    "import cft\n",
    "import loop_opt as tnr"
   ]
  },
  {
   "cell_type": "code",
   "execution_count": 2,
   "id": "81288af9",
   "metadata": {},
   "outputs": [],
   "source": [
    "def auto_calculator(T,d_cut):\n",
    "    qr = True\n",
    "    size=24\n",
    "    algo = 'loop'\n",
    "    if algo == 'loop':\n",
    "        opt_error = 1.0E-14\n",
    "        maxloop = 100\n",
    "        algo = 'loop'\n",
    "    elif algo == 'ln':\n",
    "        opt_error = np.inf\n",
    "        maxloop = -1\n",
    "        algo = 'ln'\n",
    "\n",
    "    if size % 2 != 0:\n",
    "        sys.exit(\"System size should be an even number\")\n",
    "\n",
    "    field = 0.0\n",
    "    temperature=T\n",
    "    beta=1./temperature\n",
    "    keep_num = d_cut ** 2\n",
    "    cft_result = np.zeros((size, keep_num))\n",
    "    error_list=np.zeros((size))\n",
    "\n",
    "    # assign the initial value of tensor TA, TB\n",
    "\n",
    "    ts_A0 = initialize_Ising(temperature)\n",
    "    ts_B0 = ts_A0.copy()\n",
    "    # normalize tensor before RG\n",
    "    ts_A0, ts_B0, plqnorm = cft.plq_normalize_new(ts_A0, ts_B0)\n",
    "    # initial value ln(z_0)\n",
    "    area = 4\n",
    "    plqnorm_list=[plqnorm]\n",
    "    ln_z = np.log(plqnorm)/area\n",
    "    # initial area per tensor = 2*2 because of the normalization\n",
    "\n",
    "    for i in tqdm(range(size)):\n",
    "        ts_A0, ts_B0 = flt.filter(ts_A0, ts_B0)\n",
    "    # loop optimize to find the new tensors\n",
    "        ts_A0, ts_B0, loop_error, ln_error = opt.loop_opt(ts_A0, ts_B0, d_cut, opt_error, maxloop, qr=qr, return_LN_error=True)\n",
    "        error_list[i]=loop_error\n",
    "    # normalize the new tensors in the plaquette\n",
    "    # construct the 2 x 2 transfer matrix\n",
    "        ts_A0, ts_B0, plqnorm = cft.plq_normalize_new(ts_A0, ts_B0)\n",
    "        area *= 2\n",
    "        ln_z += np.log(plqnorm) / area\n",
    "        plqnorm_list.append(plqnorm)\n",
    "    # calculate central charge and scaling dimension\n",
    "        data = cft.cal_sp_new(ts_A0, ts_B0, plqnorm)\n",
    "        cft_result[i, 0:min(keep_num, np.shape(data)[0])] = data[0:min(keep_num, np.shape(data)[0])]\n",
    "    np.save(\"tnr_data/Critical_{}.npy\".format(d_cut),cft_result)\n",
    "    np.save(\"tnr_/plqnorm_{}.npy\".format(d_cut),plqnorm_list)\n",
    "    return 0"
   ]
  },
  {
   "cell_type": "code",
   "execution_count": null,
   "id": "dd12e508",
   "metadata": {},
   "outputs": [],
   "source": []
  }
 ],
 "metadata": {
  "kernelspec": {
   "display_name": "Python 3 (ipykernel)",
   "language": "python",
   "name": "python3"
  },
  "language_info": {
   "codemirror_mode": {
    "name": "ipython",
    "version": 3
   },
   "file_extension": ".py",
   "mimetype": "text/x-python",
   "name": "python",
   "nbconvert_exporter": "python",
   "pygments_lexer": "ipython3",
   "version": "3.9.12"
  }
 },
 "nbformat": 4,
 "nbformat_minor": 5
}
